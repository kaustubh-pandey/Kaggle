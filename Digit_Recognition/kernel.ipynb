{
 "cells": [
  {
   "cell_type": "code",
   "execution_count": null,
   "metadata": {
    "_cell_guid": "b1076dfc-b9ad-4769-8c92-a6c4dae69d19",
    "_uuid": "8f2839f25d086af736a60e9eeb907d3b93b6e0e5",
    "collapsed": true
   },
   "outputs": [],
   "source": [
    "# This Python 3 environment comes with many helpful analytics libraries installed\n",
    "# It is defined by the kaggle/python docker image: https://github.com/kaggle/docker-python\n",
    "# For example, here's several helpful packages to load in \n",
    "\n",
    "import numpy as np # linear algebra\n",
    "import pandas as pd # data processing, CSV file I/O (e.g. pd.read_csv)\n",
    "\n",
    "# Input data files are available in the \"../input/\" directory.\n",
    "# For example, running this (by clicking run or pressing Shift+Enter) will list the files in the input directory\n",
    "\n",
    "import os\n",
    "print(os.listdir(\"../input\"))\n",
    "\n",
    "# Any results you write to the current directory are saved as output."
   ]
  },
  {
   "cell_type": "code",
   "execution_count": null,
   "metadata": {
    "_cell_guid": "79c7e3d0-c299-4dcb-8224-4455121ee9b0",
    "_uuid": "d629ff2d2480ee46fbb7e2d37f6b5fab8052498a",
    "collapsed": true
   },
   "outputs": [],
   "source": [
    "df=pd.read_csv('../input/train.csv')\n",
    "if(df.isna().any().any()):\n",
    "    print(\"Yes\")\n",
    "df.head()"
   ]
  },
  {
   "cell_type": "code",
   "execution_count": null,
   "metadata": {
    "_uuid": "fac237485f94a13dec2121172d72dd30bcc4181c",
    "collapsed": true
   },
   "outputs": [],
   "source": [
    "y=df.iloc[:,0].values\n",
    "X=df.drop(['label'],axis=1)\n",
    "from sklearn.preprocessing import StandardScaler\n",
    "scaler=StandardScaler()\n",
    "X=scaler.fit_transform(X)\n",
    "print(X[:2,:])"
   ]
  },
  {
   "cell_type": "code",
   "execution_count": null,
   "metadata": {
    "_uuid": "b1104d619df66c6ebb29967f52197a9770524aae",
    "collapsed": true
   },
   "outputs": [],
   "source": [
    "from sklearn.decomposition import PCA\n",
    "pca = PCA(n_components=200)\n",
    "X_copy=pca.fit_transform(X)\n",
    "print(pca.explained_variance_ratio_)"
   ]
  },
  {
   "cell_type": "code",
   "execution_count": null,
   "metadata": {
    "_uuid": "cdffc5543d74d555c9afa18c4317b89cdeb9449d",
    "collapsed": true
   },
   "outputs": [],
   "source": [
    "pca.explained_variance_ratio_.sum()"
   ]
  },
  {
   "cell_type": "code",
   "execution_count": null,
   "metadata": {
    "_uuid": "1975801f65201473754d1c6c301aae12a319fe83",
    "collapsed": true
   },
   "outputs": [],
   "source": [
    "from sklearn.ensemble import RandomForestClassifier\n",
    "rfc=RandomForestClassifier(n_jobs=-1)\n",
    "rfc.fit(X_copy,y)\n",
    "rfc.score(X_copy,y)"
   ]
  },
  {
   "cell_type": "code",
   "execution_count": null,
   "metadata": {
    "_uuid": "33d27c9267e21b490eb277ee2314a8ebb59020d2",
    "collapsed": true
   },
   "outputs": [],
   "source": [
    "from sklearn.model_selection import cross_val_score\n",
    "accuracies=cross_val_score(estimator=rfc,X=X_copy,y=y,cv=10)\n",
    "accuracies.mean()"
   ]
  },
  {
   "cell_type": "code",
   "execution_count": null,
   "metadata": {
    "_uuid": "8341cf39a5e9b3edc7248c41e02f5cb81d292727",
    "collapsed": true
   },
   "outputs": [],
   "source": [
    "from sklearn.svm import SVC\n",
    "svc=SVC()\n",
    "svc.fit(X_copy[:7000,:],y[:7000])\n",
    "from sklearn.model_selection import GridSearchCV\n",
    "params=[{'C':[7,8],'kernel':['rbf'],'gamma':[0.002,0.001]}]\n",
    "grid_search=GridSearchCV(estimator=svc,param_grid=params,scoring='accuracy',cv=5)\n",
    "grid_search.fit(X_copy[:7000,:],y[:7000])\n",
    "print(grid_search.best_score_)\n",
    "print(grid_search.best_params_)"
   ]
  },
  {
   "cell_type": "code",
   "execution_count": null,
   "metadata": {
    "_uuid": "fe67c6dffe45273fecc32f1980fbf175ac695e55",
    "collapsed": true
   },
   "outputs": [],
   "source": [
    "svc=SVC(C=8,kernel='rbf',gamma=0.002)\n",
    "svc.fit(X_copy[:20000,:],y[:20000])\n",
    "accuracies=cross_val_score(estimator=svc,X=X_copy[:20000,:],y=y[:20000],cv=5)\n",
    "accuracies.mean()"
   ]
  },
  {
   "cell_type": "code",
   "execution_count": null,
   "metadata": {
    "_uuid": "fc7d65be3899651e62f4ae10420038404cad9c60",
    "collapsed": true
   },
   "outputs": [],
   "source": [
    "svc=SVC(C=8,kernel='rbf',gamma=0.002)\n",
    "svc.fit(X_copy,y)"
   ]
  },
  {
   "cell_type": "code",
   "execution_count": null,
   "metadata": {
    "_uuid": "77f0ce63d4ad978468f31d902b6490e765a738e2",
    "collapsed": true
   },
   "outputs": [],
   "source": [
    "X_test=pd.read_csv('../input/test.csv')\n",
    "X_test.head()"
   ]
  },
  {
   "cell_type": "code",
   "execution_count": null,
   "metadata": {
    "_uuid": "787bfa399abe73631ed7330fd70b1d5cd683c912",
    "collapsed": true
   },
   "outputs": [],
   "source": [
    "X_test=scaler.transform(X_test)"
   ]
  },
  {
   "cell_type": "code",
   "execution_count": null,
   "metadata": {
    "_uuid": "f64c1168bb017148efad629e357cedfc4d020106",
    "collapsed": true
   },
   "outputs": [],
   "source": [
    "X_test=pca.transform(X_test)"
   ]
  },
  {
   "cell_type": "code",
   "execution_count": null,
   "metadata": {
    "_uuid": "ac0f9a65314730ce0fad436b970aa900caff7fb5",
    "collapsed": true
   },
   "outputs": [],
   "source": [
    "X_test.shape\n",
    "len(X_test)\n",
    "output=svc.predict(X_test)"
   ]
  },
  {
   "cell_type": "code",
   "execution_count": null,
   "metadata": {
    "_uuid": "b07618376aed0315d1ae1523b034de89c574d83e",
    "collapsed": true
   },
   "outputs": [],
   "source": [
    "import csv\n",
    "with open('./output.csv','w',newline='') as f:\n",
    "    field=['ImageId','Label']\n",
    "    writer=csv.DictWriter(f,fieldnames=field)\n",
    "    writer.writeheader()\n",
    "    for i in range(len(X_test)):\n",
    "        writer.writerow({'ImageId':i+1,'Label':output[i]})"
   ]
  },
  {
   "cell_type": "markdown",
   "metadata": {
    "_uuid": "b6ad81c2b35f01a4990b11b0026ef0f993aacb3c",
    "collapsed": true
   },
   "source": [
    "# This approach gives 0.97314 score on Kaggle "
   ]
  },
  {
   "cell_type": "code",
   "execution_count": null,
   "metadata": {},
   "outputs": [],
   "source": []
  }
 ],
 "metadata": {
  "kernelspec": {
   "display_name": "Python 3",
   "language": "python",
   "name": "python3"
  },
  "language_info": {
   "codemirror_mode": {
    "name": "ipython",
    "version": 3
   },
   "file_extension": ".py",
   "mimetype": "text/x-python",
   "name": "python",
   "nbconvert_exporter": "python",
   "pygments_lexer": "ipython3",
   "version": "3.6.4"
  }
 },
 "nbformat": 4,
 "nbformat_minor": 1
}
